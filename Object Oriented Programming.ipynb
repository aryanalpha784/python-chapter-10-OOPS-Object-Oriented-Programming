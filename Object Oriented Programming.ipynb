{
 "cells": [
  {
   "cell_type": "code",
   "execution_count": 8,
   "id": "4ccf7d04-58f4-47fb-877d-4d9e10e77208",
   "metadata": {},
   "outputs": [
    {
     "name": "stdout",
     "output_type": "stream",
     "text": [
      "Blue\n",
      "Audi\n"
     ]
    }
   ],
   "source": [
    "class Car:\n",
    "    color = \"Blue\"\n",
    "    brand = \"Audi\"\n",
    "\n",
    "c1 = Car()\n",
    "print(c1.color)\n",
    "print(c1.brand)"
   ]
  },
  {
   "cell_type": "code",
   "execution_count": 10,
   "id": "92986907-8415-49b7-8603-ab0519406d7a",
   "metadata": {},
   "outputs": [],
   "source": [
    "#__init__function"
   ]
  },
  {
   "cell_type": "code",
   "execution_count": 12,
   "id": "a0b79ae8-4d0e-4f3a-827c-5a059dab39fe",
   "metadata": {},
   "outputs": [
    {
     "name": "stdout",
     "output_type": "stream",
     "text": [
      "Aryan\n"
     ]
    }
   ],
   "source": [
    "class Student:\n",
    "    def __init__(self, fullname):\n",
    "        self.name = fullname\n",
    "\n",
    "s1 = Student(\"Aryan\")\n",
    "print(s1.name)"
   ]
  },
  {
   "cell_type": "code",
   "execution_count": 20,
   "id": "531b63d4-3d90-4a20-bec4-7c2b5ede4ef9",
   "metadata": {},
   "outputs": [
    {
     "name": "stdout",
     "output_type": "stream",
     "text": [
      "Aryan Singh 98\n",
      "karan Sharma 99\n"
     ]
    }
   ],
   "source": [
    "class Student:\n",
    "\n",
    "    #default constructer\n",
    "    def __init__(self):\n",
    "        pass\n",
    "\n",
    "    #parameterized constructer\n",
    "    def __init__(self, fullname, marks):\n",
    "        self.name = fullname\n",
    "        self.marks = marks\n",
    "\n",
    "s1 = Student(\"Aryan Singh\", 98)\n",
    "s2 = Student(\"karan Sharma\", 99)\n",
    "\n",
    "print(s1.name, s1.marks)\n",
    "print(s2.name, s2.marks)"
   ]
  },
  {
   "cell_type": "code",
   "execution_count": 22,
   "id": "a6399bc1-b29b-4dc3-91f6-1738ed968f36",
   "metadata": {},
   "outputs": [],
   "source": [
    "#Methods "
   ]
  },
  {
   "cell_type": "code",
   "execution_count": 38,
   "id": "f141f048-bc69-4f64-b448-f777119c6b6b",
   "metadata": {},
   "outputs": [
    {
     "name": "stdout",
     "output_type": "stream",
     "text": [
      "Good Morning Aryan Singh\n"
     ]
    },
    {
     "data": {
      "text/plain": [
       "97"
      ]
     },
     "execution_count": 38,
     "metadata": {},
     "output_type": "execute_result"
    }
   ],
   "source": [
    "class Student:\n",
    "    def __init__(self, fullname, marks, age):\n",
    "        self.name = fullname\n",
    "        self.marks = marks\n",
    "        self.age = age\n",
    "\n",
    "    def welcome(self):\n",
    "        print(\"Good Morning \" + self.name)\n",
    "\n",
    "    def get_marks(self):\n",
    "        return self.marks\n",
    "\n",
    "s1 = Student(\"Aryan Singh\", 97, 23)\n",
    "s1.welcome()\n",
    "s1.get_marks()"
   ]
  },
  {
   "cell_type": "markdown",
   "id": "3608a0b6-4c02-48a5-a6ff-3f792cb58ea2",
   "metadata": {},
   "source": [
    "# Create a Student class that takes name & marks of 3 subject as arguments in constructor.Then create a method to print the average."
   ]
  },
  {
   "cell_type": "code",
   "execution_count": 51,
   "id": "780d8070-3fc4-48ad-9fe4-fa2d2a3490ed",
   "metadata": {},
   "outputs": [
    {
     "name": "stdout",
     "output_type": "stream",
     "text": [
      "Hi Aryan Singh, your average score is: 91.33333333333333\n"
     ]
    },
    {
     "data": {
      "text/plain": [
       "91.33333333333333"
      ]
     },
     "execution_count": 51,
     "metadata": {},
     "output_type": "execute_result"
    }
   ],
   "source": [
    "class Student:\n",
    "    def __init__(self, name, marks):\n",
    "        self.name = name\n",
    "        self.marks = marks\n",
    "    \n",
    "    def get_avg(self):\n",
    "        total = 0\n",
    "        for val in self.marks:\n",
    "            total += val\n",
    "        avg = total / len(self.marks)\n",
    "        print(f\"Hi {self.name}, your average score is: {avg}\")\n",
    "        return avg\n",
    "\n",
    "s1 = Student(\"Aryan Singh\", [97, 98, 79])\n",
    "s1.get_avg()"
   ]
  },
  {
   "cell_type": "code",
   "execution_count": 59,
   "id": "aec5060a-056a-44e7-bcae-67eb22809586",
   "metadata": {},
   "outputs": [],
   "source": [
    "#Static Method\n",
    "\n",
    "class Student:\n",
    "    @staticmethod\n",
    "    def college():\n",
    "        print(\"ABC College\")"
   ]
  },
  {
   "cell_type": "markdown",
   "id": "dafb48e6-c0eb-45ea-a7b7-cdd7c6da799a",
   "metadata": {},
   "source": [
    "# Let's Practice\n",
    "\n",
    "# Create Account class with 2 attributes - balance and account number.\n",
    "\n",
    "# Create methods for debit, credit and printing balance."
   ]
  },
  {
   "cell_type": "code",
   "execution_count": 62,
   "id": "cbe5d9e3-288a-46bb-834c-30df8a22a40c",
   "metadata": {},
   "outputs": [
    {
     "name": "stdout",
     "output_type": "stream",
     "text": [
      "Rs  1000  was debited\n",
      "total balance =  9000\n"
     ]
    }
   ],
   "source": [
    "class Account:\n",
    "    def __init__(self, bal, acc):\n",
    "        self.balance = bal\n",
    "        self.account_no = acc\n",
    "\n",
    "    def debit(self, amount):\n",
    "        self.balance -= amount\n",
    "        print(\"Rs \",amount, \" was debited\")\n",
    "        print(\"total balance = \", self.get_balance())\n",
    "\n",
    "    def credit(self, amount):\n",
    "        self.balance += amount\n",
    "        print(\"Rs \", amount, \" was credited\")\n",
    "        print(\"total balance = \", self.get_balance())\n",
    "\n",
    "    def get_balance(self):\n",
    "        return self.balance\n",
    "\n",
    "acc1 = Account(10000, 12345)\n",
    "acc1.debit(1000)\n",
    "     "
   ]
  },
  {
   "cell_type": "code",
   "execution_count": 76,
   "id": "64c23d59-4a87-4346-b96c-9b7c6ef7a9aa",
   "metadata": {},
   "outputs": [
    {
     "name": "stdout",
     "output_type": "stream",
     "text": [
      "Aryan\n"
     ]
    }
   ],
   "source": [
    "#del keyword\n",
    "\n",
    "class Student:\n",
    "    def __init__(self, name):\n",
    "        self.name = name\n",
    "\n",
    "s1 = Student(\"Aryan\")\n",
    "print(s1.name)\n",
    "del s1.name"
   ]
  },
  {
   "cell_type": "code",
   "execution_count": 84,
   "id": "45380383-be2f-4efa-9edc-0a81bbbdd5a1",
   "metadata": {},
   "outputs": [
    {
     "name": "stdout",
     "output_type": "stream",
     "text": [
      "12345\n"
     ]
    },
    {
     "ename": "AttributeError",
     "evalue": "'Account' object has no attribute 'acc_pass'",
     "output_type": "error",
     "traceback": [
      "\u001b[1;31m---------------------------------------------------------------------------\u001b[0m",
      "\u001b[1;31mAttributeError\u001b[0m                            Traceback (most recent call last)",
      "Cell \u001b[1;32mIn[84], line 9\u001b[0m\n\u001b[0;32m      6\u001b[0m acc1 \u001b[38;5;241m=\u001b[39m Account(\u001b[38;5;124m\"\u001b[39m\u001b[38;5;124m12345\u001b[39m\u001b[38;5;124m\"\u001b[39m, \u001b[38;5;124m\"\u001b[39m\u001b[38;5;124mabcde\u001b[39m\u001b[38;5;124m\"\u001b[39m)\n\u001b[0;32m      8\u001b[0m \u001b[38;5;28mprint\u001b[39m(acc1\u001b[38;5;241m.\u001b[39macc_no)\n\u001b[1;32m----> 9\u001b[0m \u001b[38;5;28mprint\u001b[39m(acc1\u001b[38;5;241m.\u001b[39macc_pass)\n",
      "\u001b[1;31mAttributeError\u001b[0m: 'Account' object has no attribute 'acc_pass'"
     ]
    }
   ],
   "source": [
    "class Account:\n",
    "    def __init__(self, acc_no, acc_pass):\n",
    "        self.acc_no = acc_no\n",
    "        self.__acc_pass = acc_pass\n",
    "\n",
    "acc1 = Account(\"12345\", \"abcde\")\n",
    "\n",
    "print(acc1.acc_no)\n",
    "print(acc1.acc_pass) #private the password from the others"
   ]
  },
  {
   "cell_type": "code",
   "execution_count": 15,
   "id": "41e795af-ccd6-4bb2-b9ec-fcbe54cbda6f",
   "metadata": {},
   "outputs": [
    {
     "name": "stdout",
     "output_type": "stream",
     "text": [
      "Car Started\n",
      "Car Started\n"
     ]
    },
    {
     "data": {
      "text/plain": [
       "'prius'"
      ]
     },
     "execution_count": 15,
     "metadata": {},
     "output_type": "execute_result"
    }
   ],
   "source": [
    "#Inheritance\n",
    "\n",
    "class Car:\n",
    "    color = \"black\"\n",
    "\n",
    "    @staticmethod\n",
    "    def start():\n",
    "        print(\"Car Started\")\n",
    "\n",
    "    @staticmethod\n",
    "    def stop():\n",
    "        print(\"Car Stopped..\")\n",
    "\n",
    "class Toyota_Car(Car):\n",
    "    def __init__(self, name):\n",
    "        self.name = name\n",
    "\n",
    "class Fortuner(Toyota_Car):\n",
    "    def __init__(self, type):\n",
    "        self.type = type\n",
    "\n",
    "car1 = Toyota_Car(\"Fortuner\")\n",
    "car2 = Toyota_Car(\"prius\")\n",
    "\n",
    "car1.start()\n",
    "car2.start()\n",
    "car2.name"
   ]
  },
  {
   "cell_type": "code",
   "execution_count": 21,
   "id": "12b3deec-5102-46e1-a8c7-d7dfdc8d512a",
   "metadata": {},
   "outputs": [
    {
     "name": "stdout",
     "output_type": "stream",
     "text": [
      "Welcome to class C\n"
     ]
    }
   ],
   "source": [
    "# Multiple Inheritance\n",
    "\n",
    "class A:\n",
    "    varA = \"Welcome to class A\"\n",
    "\n",
    "class B:\n",
    "    varB = \"Welcome to class B\"\n",
    "\n",
    "class C(A,B):\n",
    "    varC = \"Welcome to class C\"\n",
    "\n",
    "c1 = (C)\n",
    "\n",
    "print(c1.varC)"
   ]
  },
  {
   "cell_type": "code",
   "execution_count": 31,
   "id": "03bf1fa7-af85-4453-9fd3-daa050ce98f8",
   "metadata": {},
   "outputs": [
    {
     "data": {
      "text/plain": [
       "'Rahul Kumar'"
      ]
     },
     "execution_count": 31,
     "metadata": {},
     "output_type": "execute_result"
    }
   ],
   "source": [
    "# Class Method\n",
    "\n",
    "class Person:\n",
    "    name = \"anonymous\"\n",
    "    def __init__(self, name = \"anonymous\"):\n",
    "        self.name = name\n",
    "    \n",
    "    def changename(self, newname):\n",
    "        self.name = newname\n",
    "\n",
    "p1 = Person()\n",
    "p1.name\n",
    "p1.changename(\"Rahul Kumar\")\n",
    "p1.name"
   ]
  },
  {
   "cell_type": "code",
   "execution_count": 39,
   "id": "e9ae5710-23ae-48e5-a351-2451f1cabdff",
   "metadata": {},
   "outputs": [
    {
     "name": "stdout",
     "output_type": "stream",
     "text": [
      "98.0%\n",
      "97.33333333333333%\n"
     ]
    }
   ],
   "source": [
    "#Property Method\n",
    "\n",
    "class Student:\n",
    "    def __init__(self, physics, chemistry, biology):\n",
    "        self.physics = physics\n",
    "        self.chemistry = chemistry\n",
    "        self.biology = biology\n",
    "\n",
    "    @property\n",
    "    def percentage(self):\n",
    "        return str((self.physics + self.chemistry + self.biology)/3) + \"%\"\n",
    "\n",
    "s1 = Student(98,97,99)\n",
    "print(s1.percentage)\n",
    "s1.physics = 96\n",
    "print(s1.percentage)"
   ]
  },
  {
   "cell_type": "code",
   "execution_count": 45,
   "id": "4fe036d4-b840-4af5-83a6-7a98e5c6d73b",
   "metadata": {},
   "outputs": [
    {
     "name": "stdout",
     "output_type": "stream",
     "text": [
      "4 i+ 10 j\n"
     ]
    }
   ],
   "source": [
    "#polymorphism\n",
    "\n",
    "class Complex:\n",
    "    def __init__(self, real, img):\n",
    "        self.real = real\n",
    "        self.img = img\n",
    "    \n",
    "    def shownumber(self):\n",
    "        print(self.real,\"i+\",self.img, \"j\")\n",
    "\n",
    "    def __add__(self, num2):\n",
    "        newreal = self.real + num2.real\n",
    "        newimg = self.img + num2.img\n",
    "        return Complex(newreal, newimg)\n",
    "\n",
    "num1 = Complex(1, 3)\n",
    "num2 = Complex(3, 7)\n",
    "\n",
    "num3 = num1 + num2\n",
    "num3.shownumber()"
   ]
  },
  {
   "cell_type": "markdown",
   "id": "d655ea3e-f438-4749-9a9e-6de74deb1b56",
   "metadata": {},
   "source": [
    "# Questions"
   ]
  },
  {
   "cell_type": "markdown",
   "id": "8424b648-564e-4257-b65f-b305c930c4ce",
   "metadata": {},
   "source": [
    "# 1.Define a circle class to create a circle with radius r using the constructor.Define the Area() method of the class which calculates the area of the circle.Define a perimeter() method of the class which allows you to calculate the perimeter of the circle."
   ]
  },
  {
   "cell_type": "code",
   "execution_count": 55,
   "id": "ca359ab6-8f0d-46ed-937e-179b4132263e",
   "metadata": {},
   "outputs": [
    {
     "name": "stdout",
     "output_type": "stream",
     "text": [
      "314.0\n",
      "62.800000000000004\n"
     ]
    }
   ],
   "source": [
    "class Circle:\n",
    "    def __init__(self, radius):\n",
    "        self.radius = radius\n",
    "    \n",
    "    def area(self):\n",
    "        return 3.14 * self.radius ** 2\n",
    "    \n",
    "    def perimeter(self):\n",
    "        return 2 * 3.14 * self.radius\n",
    "\n",
    "c1 = Circle(10)\n",
    "\n",
    "c1.radius\n",
    "print(c1.area())\n",
    "print(c1.perimeter())"
   ]
  },
  {
   "cell_type": "markdown",
   "id": "26aeabc4-ca3b-41ad-b2f0-6282d513f343",
   "metadata": {},
   "source": [
    "# 2.Define a Employee class with attribute role, department and salary.This class also has a show details() method.\n",
    "\n",
    "# Create a engineer class that inherits properties from employee and has additional attributes : name and age"
   ]
  },
  {
   "cell_type": "code",
   "execution_count": 61,
   "id": "04cbb535-192a-4871-8fc7-cd862d746150",
   "metadata": {},
   "outputs": [
    {
     "name": "stdout",
     "output_type": "stream",
     "text": [
      "Name:  Elon Musk\n",
      "Age:  40\n",
      "Role:  Engineer\n",
      "Department:  IT\n",
      "Salary:  1000000\n"
     ]
    }
   ],
   "source": [
    "class Employee:\n",
    "    def __init__(self, role, department, salary):\n",
    "        self.role = role\n",
    "        self.department = department\n",
    "        self.salary = salary\n",
    "\n",
    "    def ShowDetails(self):\n",
    "        print(\"Role: \", self.role)\n",
    "        print(\"Department: \", self.department)\n",
    "        print(\"Salary: \", self.salary)\n",
    "\n",
    "class Engineer(Employee):\n",
    "    def __init__(self, name, age, salary):\n",
    "        self.name = name\n",
    "        self.age = age\n",
    "        super().__init__(\"Engineer\", \"IT\", salary)\n",
    "\n",
    "    def ShowDetails(self):\n",
    "        print(\"Name: \", self.name)\n",
    "        print(\"Age: \", self.age)\n",
    "        super().ShowDetails()\n",
    "\n",
    "engi = Engineer(\"Elon Musk\", 40, 1000000)\n",
    "engi.ShowDetails()"
   ]
  },
  {
   "cell_type": "markdown",
   "id": "70a04f2d-364d-4b3e-ae3e-061d37fc65a3",
   "metadata": {},
   "source": [
    "# 3.Create a class called order which stores item and its price.Use Dunder function __gt__() to convey that."
   ]
  },
  {
   "cell_type": "code",
   "execution_count": 64,
   "id": "9efbbebf-073b-4572-9ec6-61e71deee1de",
   "metadata": {},
   "outputs": [
    {
     "name": "stdout",
     "output_type": "stream",
     "text": [
      "False\n"
     ]
    }
   ],
   "source": [
    "class Order:\n",
    "    def __init__(self, item, price):\n",
    "        self.item = item\n",
    "        self.price = price\n",
    "    \n",
    "    def __gt__(self, odr2):\n",
    "        return self.price > odr2.price\n",
    "\n",
    "odr1 = Order(\"chips\",20)\n",
    "odr2 = Order(\"tea\", 15)\n",
    "\n",
    "print(odr1 < odr2)"
   ]
  }
 ],
 "metadata": {
  "kernelspec": {
   "display_name": "Python 3 (ipykernel)",
   "language": "python",
   "name": "python3"
  },
  "language_info": {
   "codemirror_mode": {
    "name": "ipython",
    "version": 3
   },
   "file_extension": ".py",
   "mimetype": "text/x-python",
   "name": "python",
   "nbconvert_exporter": "python",
   "pygments_lexer": "ipython3",
   "version": "3.11.7"
  }
 },
 "nbformat": 4,
 "nbformat_minor": 5
}
